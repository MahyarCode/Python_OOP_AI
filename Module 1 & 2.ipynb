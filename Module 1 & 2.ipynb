{
 "cells": [
  {
   "cell_type": "markdown",
   "id": "a221c59c-b997-4815-acb0-336da21abf65",
   "metadata": {},
   "source": [
    "# Basics"
   ]
  },
  {
   "cell_type": "markdown",
   "id": "20e70ba4-9033-44e9-82db-3d86a591f6c8",
   "metadata": {},
   "source": [
    "## *args\n"
   ]
  },
  {
   "cell_type": "markdown",
   "id": "87737778-f36f-4a87-8e84-d6f4a1050602",
   "metadata": {},
   "source": [
    "\n",
    "### • *args is used to pass a variable number of non-keyword arguments to a function.\n",
    "### • Inside the function, args is a tuple of the arguments passed.\n"
   ]
  },
  {
   "cell_type": "code",
   "execution_count": 1,
   "id": "c5a912ab-b52e-4347-b422-065791bd2814",
   "metadata": {},
   "outputs": [
    {
     "name": "stdout",
     "output_type": "stream",
     "text": [
      "10\n"
     ]
    }
   ],
   "source": [
    "# Exercise 1\n",
    "# Write a function sum_numbers that takes any number of arguments and returns their sum\n",
    "\n",
    "def sum_numbers(*args):\n",
    "    print(sum(args))\n",
    "\n",
    "\n",
    "sum_numbers(1,2,3,4)"
   ]
  },
  {
   "cell_type": "code",
   "execution_count": 2,
   "id": "2fe6a67f-def8-4b13-b886-4f240b6b21e4",
   "metadata": {},
   "outputs": [
    {
     "name": "stdout",
     "output_type": "stream",
     "text": [
      "[0, 2, 4, 6, 8, 10, 12, 14, 16, 18, 20]\n"
     ]
    }
   ],
   "source": [
    "# Exercise 2\n",
    "# Create a list comprehension that generates a list of even numbers from 0 to 20.\n",
    "def even_numbers(n):\n",
    "    # even_num = []\n",
    "    # for i in range(n+1):\n",
    "    #     if i % 2 == 0:\n",
    "    #         even_num.append(i)\n",
    "    even_num = [i for i in range(n+1) if i % 2 == 0]\n",
    "    return even_num\n",
    "    \n",
    "result = even_numbers(20)\n",
    "print(result)"
   ]
  },
  {
   "cell_type": "markdown",
   "id": "7999c1e4-408f-40ce-be7c-f3fe0cb2141a",
   "metadata": {},
   "source": [
    "## **kwargs"
   ]
  },
  {
   "cell_type": "markdown",
   "id": "667edc9c-1b46-42e0-b7d5-3bd805799704",
   "metadata": {},
   "source": [
    "### • **kwargs allows you to pass a variable number of keyword arguments to a function."
   ]
  },
  {
   "cell_type": "markdown",
   "id": "f02b613a-585a-4700-8969-12bd1435df01",
   "metadata": {},
   "source": [
    "### •\tInside the function, kwargs is a dictionary of the arguments passed."
   ]
  },
  {
   "cell_type": "code",
   "execution_count": 3,
   "id": "c6361a93-7a23-43d9-b4e6-2296772d07a2",
   "metadata": {},
   "outputs": [
    {
     "name": "stdout",
     "output_type": "stream",
     "text": [
      "name: Alice\n",
      "age: 30\n",
      "city: New York\n"
     ]
    }
   ],
   "source": [
    "def print_details(**kwargs):\n",
    "    for key, value in kwargs.items():\n",
    "        print(f\"{key}: {value}\")\n",
    "\n",
    "print_details(name=\"Alice\", age=30, city=\"New York\")\n"
   ]
  },
  {
   "cell_type": "code",
   "execution_count": 4,
   "id": "12c6d7a2-a7f2-4e38-b52b-f7701322582e",
   "metadata": {},
   "outputs": [
    {
     "name": "stdout",
     "output_type": "stream",
     "text": [
      "120\n"
     ]
    }
   ],
   "source": [
    "# Exercise 1\n",
    "# Write a function multiply_numbers that takes any number of arguments and returns their product.\n",
    "def multiply_numbers(*args):\n",
    "    result = 1\n",
    "    for num in args:\n",
    "        result *= num\n",
    "    return result\n",
    "\n",
    "result = multiply_numbers(1, 2, 3, 4, 5)\n",
    "print(result)\n",
    "\n"
   ]
  },
  {
   "cell_type": "code",
   "execution_count": 5,
   "id": "1e147d11-c630-4933-a99d-2ebe31c28fe2",
   "metadata": {},
   "outputs": [
    {
     "name": "stdout",
     "output_type": "stream",
     "text": [
      "[1, 3, 5, 7, 9, 11, 13, 15, 17, 19, 21, 23, 25, 27, 29, 31, 33, 35, 37, 39, 41, 43, 45, 47, 49, 51, 53, 55, 57, 59, 61, 63, 65, 67, 69, 71, 73, 75, 77, 79, 81, 83, 85, 87, 89, 91, 93, 95, 97, 99]\n"
     ]
    }
   ],
   "source": [
    "#Exercise 2\n",
    "# Create a function odd_numbers that returns a list of odd numbers up to a given number n.\n",
    "def odd_numbers(n):\n",
    "    return [i for i in range(n+1) if i % 2 == 1]\n",
    "    \n",
    "my_result = odd_numbers(100)\n",
    "print(my_result)"
   ]
  },
  {
   "cell_type": "code",
   "execution_count": 6,
   "id": "a6adb60d-bfcc-49cc-9b04-62167dbfd60b",
   "metadata": {},
   "outputs": [
    {
     "name": "stdout",
     "output_type": "stream",
     "text": [
      "120\n"
     ]
    }
   ],
   "source": [
    "# Exercise 3\n",
    "# Write a function factorial that calculates the factorial of a given number n.\n",
    "def factorial(n):\n",
    "    if n == 0 or n == 1:\n",
    "        return 1\n",
    "    else:\n",
    "        return n * factorial(n-1)\n",
    "\n",
    "a = factorial(5)\n",
    "print(a)"
   ]
  },
  {
   "cell_type": "markdown",
   "id": "2a4d21d7-3214-43fb-a55e-17c209feaa44",
   "metadata": {},
   "source": [
    "# Keyword and non-keyword arguments"
   ]
  },
  {
   "cell_type": "markdown",
   "id": "3312b53f-cbfb-488f-b753-37c47e1d8466",
   "metadata": {},
   "source": [
    "## Non-keyword Arguments (Positional Arguments)"
   ]
  },
  {
   "cell_type": "markdown",
   "id": "4de606c6-a386-421a-8076-1cf2a193d041",
   "metadata": {},
   "source": [
    "### •\tNon-keyword arguments are also known as positional arguments.\n",
    "### •\tThey are arguments that are passed to a function in the correct positional order.\n",
    "### •\tThe function expects these arguments in the specific order they are defined.\n"
   ]
  },
  {
   "cell_type": "code",
   "execution_count": 7,
   "id": "c445bf0a-3903-44ce-94f4-b9a201740286",
   "metadata": {},
   "outputs": [
    {
     "name": "stdout",
     "output_type": "stream",
     "text": [
      "Hello, Alice!\n"
     ]
    }
   ],
   "source": [
    "def greet(name, message):\n",
    "    print(f\"{message}, {name}!\")\n",
    "\n",
    "greet(\"Alice\", \"Hello\")\n",
    "\n"
   ]
  },
  {
   "cell_type": "markdown",
   "id": "05acffec-bcb4-4a39-a7d6-db490e8818b3",
   "metadata": {},
   "source": [
    "## Keyword Arguments\n",
    "### •\tKeyword arguments are arguments passed to a function by explicitly specifying the parameter name along with its value.\n",
    "### •\tThis allows you to pass arguments in any order.\n"
   ]
  },
  {
   "cell_type": "code",
   "execution_count": 8,
   "id": "7fda47ff-f0f0-44ef-a60c-8d24619dcde0",
   "metadata": {},
   "outputs": [
    {
     "name": "stdout",
     "output_type": "stream",
     "text": [
      "Hello, Alice!\n",
      "Hi, Bob!\n"
     ]
    }
   ],
   "source": [
    "def greet(name, message):\n",
    "    print(f\"{message}, {name}!\")\n",
    "\n",
    "greet(name=\"Alice\", message=\"Hello\") \n",
    "greet(message=\"Hi\", name=\"Bob\") \n"
   ]
  },
  {
   "cell_type": "code",
   "execution_count": 9,
   "id": "ca3aad8d-271a-4e99-b19a-8413b381f931",
   "metadata": {},
   "outputs": [
    {
     "name": "stdout",
     "output_type": "stream",
     "text": [
      "name: Alice\n",
      "age: 30\n",
      "city: New York\n"
     ]
    }
   ],
   "source": [
    "def print_details(**kwargs):\n",
    "    for key, value in kwargs.items():\n",
    "        print(f\"{key}: {value}\")\n",
    "\n",
    "print_details(name=\"Alice\", age=30, city=\"New York\")\n",
    "\n"
   ]
  },
  {
   "cell_type": "markdown",
   "id": "3bbf5dd3-b6f0-4f8a-be90-2b6cb4625ff0",
   "metadata": {},
   "source": [
    "# Module 1: Advanced Functions and Functional Programming"
   ]
  },
  {
   "cell_type": "markdown",
   "id": "f34dac90-d6df-49fe-8b33-5f52c359d423",
   "metadata": {},
   "source": [
    "## 1. Advanced Function Concepts\n",
    "\n",
    "### Default Arguments:"
   ]
  },
  {
   "cell_type": "markdown",
   "id": "2121f46e-8a15-49c8-b2a5-a619ad04cfda",
   "metadata": {},
   "source": [
    "### Default arguments allow you to specify default values for function parameters."
   ]
  },
  {
   "cell_type": "code",
   "execution_count": 10,
   "id": "b7ac7f88-a764-4060-91c8-030e94718a77",
   "metadata": {},
   "outputs": [
    {
     "name": "stdout",
     "output_type": "stream",
     "text": [
      "hello, Brother\n",
      "i love you, Brother\n"
     ]
    }
   ],
   "source": [
    "def greet(name, greeting=\"hello\"):\n",
    "    return f\"{greeting}, {name}\"\n",
    "\n",
    "print(greet(name=\"Brother\"))\n",
    "print(greet(name=\"Brother\", greeting=\"i love you\"))"
   ]
  },
  {
   "cell_type": "markdown",
   "id": "dd05bd1f-3ea1-4425-8753-63b53af637d4",
   "metadata": {},
   "source": [
    "### Lambda Functions:\n",
    "### Lambda functions are small anonymous functions defined using the lambda keyword."
   ]
  },
  {
   "cell_type": "code",
   "execution_count": 11,
   "id": "bc0e52b6-d38f-4ef4-90d9-94439d1d3cb7",
   "metadata": {},
   "outputs": [
    {
     "name": "stdout",
     "output_type": "stream",
     "text": [
      "45\n"
     ]
    }
   ],
   "source": [
    "mu = lambda x, y: x*y\n",
    "print(mu(5,9))"
   ]
  },
  {
   "cell_type": "markdown",
   "id": "80083aa0-3ae2-4a91-8209-80c3d1c61ce7",
   "metadata": {},
   "source": [
    "### List Comprehensions\n",
    "\n",
    "### List comprehensions provide a concise way to create lists."
   ]
  },
  {
   "cell_type": "code",
   "execution_count": 12,
   "id": "1a65554e-d4b3-4117-8229-2b9175fcc131",
   "metadata": {},
   "outputs": [
    {
     "name": "stdout",
     "output_type": "stream",
     "text": [
      "[0, 1, 4, 9, 16, 25, 36, 49]\n"
     ]
    }
   ],
   "source": [
    "my_list = [x**2 for x in range(8)]\n",
    "print(my_list)"
   ]
  },
  {
   "cell_type": "code",
   "execution_count": 13,
   "id": "c9496154-2ee9-407c-ac90-fd718c812aef",
   "metadata": {},
   "outputs": [
    {
     "name": "stdout",
     "output_type": "stream",
     "text": [
      "30\n"
     ]
    }
   ],
   "source": [
    "# Exercise 1\n",
    "# Write a function sum_even_numbers that takes any number of arguments and returns the sum of the even numbers.\n",
    "def sum_even_numbers(n):\n",
    "    even_numbers = [x for x in range(n+1) if x % 2 == 0]\n",
    "    result = 0\n",
    "    for i in even_numbers:\n",
    "        result += i\n",
    "    return result\n",
    "\n",
    "total = sum_even_numbers(10)\n",
    "print(total)"
   ]
  },
  {
   "cell_type": "code",
   "execution_count": 14,
   "id": "4eb50835-6afb-4524-90fa-6e4cfc0d4271",
   "metadata": {},
   "outputs": [
    {
     "name": "stdout",
     "output_type": "stream",
     "text": [
      "30\n"
     ]
    }
   ],
   "source": [
    "# Exercise 1: Simplified\n",
    "\n",
    "def sum_even_numbers(*args):\n",
    "    return sum(x for x in args if x % 2 == 0)\n",
    "\n",
    "total = sum_even_numbers(1, 2, 3, 4, 5, 6, 7, 8, 9, 10)\n",
    "print(total)\n"
   ]
  },
  {
   "cell_type": "code",
   "execution_count": 15,
   "id": "e8886c70-b21e-4e5e-85f6-513838523290",
   "metadata": {},
   "outputs": [
    {
     "name": "stdout",
     "output_type": "stream",
     "text": [
      "[0, 9, 36, 81, 144, 225, 324, 441, 576, 729, 900]\n"
     ]
    }
   ],
   "source": [
    "# Exercise 2\n",
    "# Create a list comprehension that generates a list of squares for numbers divisible by 3 from 0 to 30.\n",
    "squares = [i**2 for i in range(31) if i % 3 == 0]\n",
    "print(squares)"
   ]
  },
  {
   "cell_type": "markdown",
   "id": "b0768976-68e7-45be-8a0d-c2d9bcf94d4f",
   "metadata": {},
   "source": [
    "## 2. Decorators"
   ]
  },
  {
   "cell_type": "markdown",
   "id": "017a853b-c6dc-4e7e-b0af-0781cf2f59f1",
   "metadata": {},
   "source": [
    "### What are decorators?\n",
    "\n",
    "### Decorators are a way to modify or enhance functions without changing their actual code. They are commonly used for logging, access control, memoization, etc."
   ]
  },
  {
   "cell_type": "code",
   "execution_count": 16,
   "id": "8d1275be-dae8-4ebc-86df-d077507ff207",
   "metadata": {},
   "outputs": [
    {
     "name": "stdout",
     "output_type": "stream",
     "text": [
      "Something is happening before the function is called.\n",
      "Hello!\n",
      "Something is happening after the function is called.\n"
     ]
    }
   ],
   "source": [
    "def my_decorator(func):\n",
    "    def wrapper():\n",
    "        print(\"Something is happening before the function is called.\")\n",
    "        func()\n",
    "        print(\"Something is happening after the function is called.\")\n",
    "    return wrapper\n",
    "\n",
    "@my_decorator\n",
    "def say_hello():\n",
    "    print(\"Hello!\")\n",
    "\n",
    "say_hello()\n"
   ]
  },
  {
   "cell_type": "code",
   "execution_count": 17,
   "id": "f862372a-2832-4108-b522-62ef091fad56",
   "metadata": {},
   "outputs": [
    {
     "name": "stdout",
     "output_type": "stream",
     "text": [
      "hi dear\n",
      "Tom\n",
      "good bye\n",
      "hi dear\n",
      "a test function\n",
      "good bye\n"
     ]
    }
   ],
   "source": [
    "# Exercise 1\n",
    "# Write a decorator time_logger that prints the time taken by a function to execute.\n",
    "def time_logger(func):\n",
    "    def wrapper():\n",
    "        print(\"hi dear\")\n",
    "        func()\n",
    "        print(\"good bye\")\n",
    "    return wrapper\n",
    "\n",
    "@time_logger\n",
    "def greet():\n",
    "    print(\"Tom\")\n",
    "    \n",
    "@time_logger\n",
    "def test():\n",
    "    print(\"a test function\")\n",
    "\n",
    "# if the @defined_function is placed right before the def function, it will execute that like the following\n",
    "\n",
    "greet()\n",
    "test()"
   ]
  },
  {
   "cell_type": "code",
   "execution_count": 18,
   "id": "47cc4047-517b-40c9-9870-0577ab6d435e",
   "metadata": {},
   "outputs": [
    {
     "name": "stdout",
     "output_type": "stream",
     "text": [
      "Time taken by factorial: 0.0000 seconds\n",
      "Time taken by factorial: 0.0000 seconds\n",
      "Time taken by factorial: 0.0000 seconds\n",
      "Time taken by factorial: 0.0000 seconds\n",
      "Time taken by factorial: 0.0000 seconds\n",
      "120\n"
     ]
    }
   ],
   "source": [
    "# Exercise 3 revised (AI Help)\n",
    "# Apply the time_logger decorator to a function that calculates the factorial of a number.\n",
    "import time\n",
    "\n",
    "def time_logger(func):\n",
    "    def wrapper(*args, **kwargs):\n",
    "        start_time = time.time()\n",
    "        result = func(*args, **kwargs)\n",
    "        end_time = time.time()\n",
    "        print(f\"Time taken by {func.__name__}: {end_time - start_time:.4f} seconds\")\n",
    "        return result\n",
    "    return wrapper\n",
    "\n",
    "@time_logger\n",
    "def factorial(n):\n",
    "    if n == 0 or n == 1:\n",
    "        return 1\n",
    "    else:\n",
    "        return n * factorial(n-1)\n",
    "\n",
    "print(factorial(5))  # Output: 120 and time taken\n"
   ]
  },
  {
   "cell_type": "markdown",
   "id": "6854e5a6-f770-4306-ba30-792285029cde",
   "metadata": {},
   "source": [
    "## 3. Higher-order Functions\n",
    "### map(), filter(), reduce()"
   ]
  },
  {
   "cell_type": "markdown",
   "id": "7e2f3f04-33da-4d88-aa1f-39ae826755cf",
   "metadata": {},
   "source": [
    "### These are higher-order functions that take other functions as arguments."
   ]
  },
  {
   "cell_type": "markdown",
   "id": "ef31985d-2b63-4a92-a347-98160105a950",
   "metadata": {},
   "source": [
    "### 3.1: map() applies a function to all items in an input list."
   ]
  },
  {
   "cell_type": "code",
   "execution_count": 19,
   "id": "28afa609-9d14-484e-ae57-fe0eff0bf391",
   "metadata": {},
   "outputs": [
    {
     "name": "stdout",
     "output_type": "stream",
     "text": [
      "[0, 1, 4, 9, 16, 25]\n"
     ]
    }
   ],
   "source": [
    "def square(x):\n",
    "    return x*x\n",
    "\n",
    "numbers = list(range(6))\n",
    "squared_numbers = list(map(square, numbers))\n",
    "print(squared_numbers)\n",
    "\n",
    "# 👇👇👇\n",
    "\n",
    "# my_list = []\n",
    "# for i in numbers:\n",
    "#     result = square(i)\n",
    "#     my_list.append(result)\n",
    "\n",
    "# print(my_list)"
   ]
  },
  {
   "cell_type": "markdown",
   "id": "bf503187-fc54-47ac-b102-33223607a152",
   "metadata": {},
   "source": [
    "### 3.2: filter() creates a list of elements for which a function returns true."
   ]
  },
  {
   "cell_type": "code",
   "execution_count": 20,
   "id": "4ff7f113-1ada-4207-9ada-00ec628df3c6",
   "metadata": {},
   "outputs": [
    {
     "name": "stdout",
     "output_type": "stream",
     "text": [
      "[0, 2, 4, 6]\n"
     ]
    }
   ],
   "source": [
    "def is_even(x):\n",
    "    return x % 2 == 0\n",
    "\n",
    "numbers = list(range(7))\n",
    "even_numbers = list(filter(is_even, numbers))\n",
    "print(even_numbers)\n",
    "\n",
    "# 👇👇👇\n",
    "\n",
    "# my_list = []\n",
    "# for i in numbers:\n",
    "#     if i % 2 == 0:\n",
    "#         my_list.append(i)\n",
    "\n",
    "# print(my_list)"
   ]
  },
  {
   "cell_type": "markdown",
   "id": "2e0616c0-c301-486e-a769-8e5224ce5cf3",
   "metadata": {},
   "source": [
    "### 3.3: reduce() applies a function of two arguments cumulatively to the items of a sequence, from left to right, to reduce the sequence to a single value."
   ]
  },
  {
   "cell_type": "code",
   "execution_count": 21,
   "id": "dad2b3f4-f8d2-48aa-ad4b-9dad4e3c9198",
   "metadata": {},
   "outputs": [
    {
     "name": "stdout",
     "output_type": "stream",
     "text": [
      "15\n"
     ]
    }
   ],
   "source": [
    "from functools import reduce\n",
    "\n",
    "def add(x, y):\n",
    "    return x + y\n",
    "\n",
    "numbers = [1, 2, 3, 4, 5]\n",
    "sum_numbers = reduce(add, numbers)\n",
    "print(sum_numbers)\n",
    "\n",
    "# 👇👇👇\n",
    "\n",
    "# total = 0\n",
    "# for i in numbers:\n",
    "#     total += i\n",
    "\n",
    "# print(total)"
   ]
  },
  {
   "cell_type": "markdown",
   "id": "0cfcd783-9205-486f-a768-3df01ddd6637",
   "metadata": {},
   "source": [
    "### Examples"
   ]
  },
  {
   "cell_type": "code",
   "execution_count": 22,
   "id": "76149de7-c89d-4ce7-be90-18e6669f2cc1",
   "metadata": {},
   "outputs": [
    {
     "name": "stdout",
     "output_type": "stream",
     "text": [
      "[3, 4, 6]\n"
     ]
    }
   ],
   "source": [
    "# Exercise 4.1\n",
    "# Use map() to create a list of the lengths of the words in a list of words.\n",
    "def char_num(n):\n",
    "    return len(n)\n",
    "\n",
    "\n",
    "num_list = [\"tom\",\"jake\",\"angela\"]\n",
    "length = list(map(char_num, num_list))\n",
    "print(length)"
   ]
  },
  {
   "cell_type": "code",
   "execution_count": 23,
   "id": "7574fd12-66c4-4002-8ed0-d3944ba983a5",
   "metadata": {},
   "outputs": [
    {
     "name": "stdout",
     "output_type": "stream",
     "text": [
      "[0, 1, 2, 3, 4, 5, 6, 7, 8, 9]\n"
     ]
    }
   ],
   "source": [
    "# Exercise 4.2\n",
    "# Use filter() to extract only the positive numbers from a list of numbers.\n",
    "def is_positive(x):\n",
    "    return x >=0 \n",
    "\n",
    "numbers = list(range(-10, 10))\n",
    "positive_numbers = list(filter(is_positive, numbers))\n",
    "print(positive_numbers)"
   ]
  },
  {
   "cell_type": "code",
   "execution_count": 24,
   "id": "0effac5b-6310-4bb3-b2a5-8b05eb270cb4",
   "metadata": {},
   "outputs": [
    {
     "name": "stdout",
     "output_type": "stream",
     "text": [
      "120\n"
     ]
    }
   ],
   "source": [
    "# Exercise 4.3\n",
    "# Use reduce() to find the product of a list of numbers.\n",
    "from functools import reduce\n",
    "\n",
    "def multiply(x, y):\n",
    "    return x * y\n",
    "\n",
    "numbers = [1, 2, 3, 4, 5]\n",
    "product = reduce(multiply, numbers)\n",
    "print(product)"
   ]
  },
  {
   "cell_type": "markdown",
   "id": "5956da9d-a09f-4856-bae8-d79d36b4fe60",
   "metadata": {},
   "source": [
    "# Module 2: Object-Oriented Programming (OOP)"
   ]
  },
  {
   "cell_type": "markdown",
   "id": "59268cfc-38fe-4b2c-8e95-fdc971161053",
   "metadata": {},
   "source": [
    "## 1. Classes and Objects\n",
    "### Classes are blueprints for creating objects. An object is an instance of a class."
   ]
  },
  {
   "cell_type": "code",
   "execution_count": 25,
   "id": "01aeeaa1-85a4-4caa-875b-99e0421d22b5",
   "metadata": {},
   "outputs": [
    {
     "name": "stdout",
     "output_type": "stream",
     "text": [
      "Buddy\n",
      "3\n",
      "Buddy is barking\n"
     ]
    }
   ],
   "source": [
    "class Dog:\n",
    "    def __init__(self, name, age):\n",
    "        self.name = name\n",
    "        self.age = age\n",
    "\n",
    "    def bark(self):\n",
    "        return f\"{self.name} is barking\"\n",
    "\n",
    "my_dog = Dog(\"Buddy\", 3)\n",
    "print(my_dog.name)\n",
    "print(my_dog.age)\n",
    "print(my_dog.bark())"
   ]
  },
  {
   "cell_type": "code",
   "execution_count": 26,
   "id": "7b8e1b95-e65b-4246-90f5-ca8a2f80b62b",
   "metadata": {},
   "outputs": [
    {
     "name": "stdout",
     "output_type": "stream",
     "text": [
      "BMW\n",
      "Model 2013\n",
      "1990\n",
      "the Model 2013 is started\n"
     ]
    }
   ],
   "source": [
    "# Execise 1\n",
    "# Create a class Car with attributes make, model, and year. \n",
    "# Include a method start_engine that prints a message indicating the car's engine has started.\n",
    "class Car:\n",
    "    def __init__(self, make, model, year):\n",
    "        self.make = make\n",
    "        self.model = model\n",
    "        self.year = year\n",
    "\n",
    "    def start_engine(self):\n",
    "        return f\"the {self.model} is started\"\n",
    "\n",
    "car = Car(\"BMW\",\"Model 2013\", 1990)\n",
    "print(car.make)\n",
    "print(car.model)\n",
    "print(car.year)\n",
    "print(car.start_engine())"
   ]
  },
  {
   "cell_type": "markdown",
   "id": "edf1f7e5-c3ca-4cbe-b539-cdbf48abbc52",
   "metadata": {},
   "source": [
    "## 2. Inheritance\n",
    "\n",
    "### Inheritance allows a class to inherit attributes and methods from another class."
   ]
  },
  {
   "cell_type": "code",
   "execution_count": 27,
   "id": "63fe6705-75ea-4f4f-b7f8-29cf1b1ee491",
   "metadata": {},
   "outputs": [
    {
     "name": "stdout",
     "output_type": "stream",
     "text": [
      "Buddy says Woof !\n",
      "Whiskers says Meow !\n"
     ]
    }
   ],
   "source": [
    "class Animal:\n",
    "    def __init__(self, name):\n",
    "        self.name = name\n",
    "\n",
    "    def speak(self):\n",
    "        return NotImplementedError(\"Subclass must implement abstract method\")\n",
    "\n",
    "class Dog(Animal):\n",
    "    def speak(self):\n",
    "        return f\"{self.name} says Woof !\"\n",
    "\n",
    "class Cat(Animal):\n",
    "    def speak(self):\n",
    "        return f\"{self.name} says Meow !\"\n",
    "\n",
    "dog = Dog(\"Buddy\")\n",
    "cat = Cat(\"Whiskers\")\n",
    "\n",
    "print(dog.speak())\n",
    "print(cat.speak())\n"
   ]
  },
  {
   "cell_type": "code",
   "execution_count": 28,
   "id": "a3f47c09-cfe3-4c85-94d2-45a40bddda6a",
   "metadata": {},
   "outputs": [
    {
     "name": "stdout",
     "output_type": "stream",
     "text": [
      "Tesla\n",
      "Model S\n",
      "2020\n",
      "The Model S is started.\n",
      "The battery with capacity 100 kWh is charging.\n"
     ]
    }
   ],
   "source": [
    "# Exercise 2\n",
    "# Create a class ElectricCar that inherits from Car and has an additional attribute battery_capacity. \n",
    "# Add a method charge_battery that prints a message indicating the battery is charging.\n",
    "class Car:\n",
    "    def __init__(self, make, model, year):\n",
    "        self.make = make\n",
    "        self.model = model\n",
    "        self.year = year\n",
    "\n",
    "    def start_engine(self):\n",
    "        return f\"The {self.model} is started.\"\n",
    "\n",
    "class ElectricCar(Car):\n",
    "    def __init__(self, make, model, year, battery_capacity):\n",
    "        super().__init__(make, model, year)\n",
    "        self.battery_capacity = battery_capacity\n",
    "\n",
    "    def charge_battery(self):\n",
    "        return f\"The battery with capacity {self.battery_capacity} kWh is charging.\"\n",
    "\n",
    "# Example usage\n",
    "electric_car = ElectricCar(\"Tesla\", \"Model S\", 2020, 100)\n",
    "print(electric_car.make)\n",
    "print(electric_car.model)\n",
    "print(electric_car.year)\n",
    "print(electric_car.start_engine())\n",
    "print(electric_car.charge_battery())\n"
   ]
  },
  {
   "cell_type": "markdown",
   "id": "a6fd61f7-1091-4e41-8744-8f9b12f01a6e",
   "metadata": {},
   "source": [
    "## 3. Polymorphism\n",
    "### Polymorphism allows methods to be used interchangeably between different classes."
   ]
  },
  {
   "cell_type": "code",
   "execution_count": 29,
   "id": "455d6673-85a8-4c29-b38b-7c3e36bae69c",
   "metadata": {},
   "outputs": [
    {
     "name": "stdout",
     "output_type": "stream",
     "text": [
      "Tweet\n",
      "Roar\n"
     ]
    }
   ],
   "source": [
    "class Bird:\n",
    "    def speak(self):\n",
    "        return \"Tweet\"\n",
    "\n",
    "class Lion:\n",
    "    def speak(self):\n",
    "        return \"Roar\"\n",
    "\n",
    "def make_sound(animal):\n",
    "    print(animal.speak())\n",
    "\n",
    "bird = Bird()\n",
    "lion = Lion()\n",
    "make_sound(bird)\n",
    "make_sound(lion)\n"
   ]
  },
  {
   "cell_type": "code",
   "execution_count": 30,
   "id": "c1392ee6-2dff-4a1e-b8b9-bbef830bb5c9",
   "metadata": {},
   "outputs": [
    {
     "name": "stdout",
     "output_type": "stream",
     "text": [
      "50.24\n",
      "20\n"
     ]
    }
   ],
   "source": [
    "# Exercise 3\n",
    "# Create a base class Shape with a method area. \n",
    "# Then create two subclasses Circle and Rectangle that override the area method to calculate the area of the shape.\n",
    "class Shape:\n",
    "    def area(self):\n",
    "        raise NotImplementedError(\"Subclass must implement abstract methos\")\n",
    "\n",
    "class Circle(Shape):\n",
    "    def __init__(self, radius):\n",
    "        self.radius = radius\n",
    "\n",
    "    def area(self):\n",
    "        return 3.14 * (self.radius ** 2)\n",
    "\n",
    "class Rectangle(Shape):\n",
    "    def __init__(self, width, height):\n",
    "        self.width = width\n",
    "        self.height = height\n",
    "\n",
    "    def area(self):\n",
    "        return self.width * self.height\n",
    "\n",
    "cir = Circle(4)\n",
    "rec = Rectangle(5,4)\n",
    "\n",
    "print(cir.area())\n",
    "print(rec.area())\n",
    "        "
   ]
  },
  {
   "cell_type": "markdown",
   "id": "a0be3882-532f-4c52-a5b1-7fe3800704a8",
   "metadata": {},
   "source": [
    "## 4. Encapsulation\n",
    "\n",
    "### Encapsulation restricts direct access to some of an object's components, which can prevent the accidental modification of data."
   ]
  },
  {
   "cell_type": "code",
   "execution_count": 31,
   "id": "c579f802-d111-467c-a8cd-e63e6abdc527",
   "metadata": {},
   "outputs": [
    {
     "name": "stdout",
     "output_type": "stream",
     "text": [
      "Alice\n",
      "30\n",
      "35\n"
     ]
    }
   ],
   "source": [
    "class Person:\n",
    "    def __init__(self, name, age):\n",
    "        self.__name = name  # Private attribute\n",
    "        self.__age = age    # Private attribute\n",
    "\n",
    "    def get_name(self):\n",
    "        return self.__name\n",
    "\n",
    "    def get_age(self):\n",
    "        return self.__age\n",
    "\n",
    "    def set_age(self, age):\n",
    "        if age > 0:\n",
    "            self.__age = age\n",
    "\n",
    "person = Person(\"Alice\", 30)\n",
    "print(person.get_name())\n",
    "print(person.get_age())\n",
    "person.set_age(35)\n",
    "print(person.get_age())\n"
   ]
  },
  {
   "cell_type": "code",
   "execution_count": 32,
   "id": "6cf01760-31bb-4030-9e76-f92124d99623",
   "metadata": {},
   "outputs": [
    {
     "name": "stdout",
     "output_type": "stream",
     "text": [
      "101\n",
      "1000000\n",
      "1500000\n"
     ]
    }
   ],
   "source": [
    "# Exercise 4\n",
    "# Create a class BankAccount with private attributes account_number and balance. \n",
    "# Include methods to deposit, withdraw, and check the balance.\n",
    "class BankAccount:\n",
    "    def __init__(self, account_number, balance):\n",
    "        self.__account_number = account_number\n",
    "        self.__balance = balance\n",
    "\n",
    "    def get_account_number(self):\n",
    "        return self.__account_number\n",
    "\n",
    "    def get_balance(self):\n",
    "            return self.__balance\n",
    "        \n",
    "    def set_balance(self, balance):\n",
    "        if balance >= 0:\n",
    "            self.__balance = balance\n",
    "\n",
    "account = BankAccount(\"101\", 1000000)\n",
    "print(account.get_account_number())\n",
    "print(account.get_balance())\n",
    "account.set_balance(1500000)\n",
    "print(account.get_balance())\n"
   ]
  },
  {
   "cell_type": "markdown",
   "id": "cb94b419-860b-49e1-bfa6-ac119ec97b9d",
   "metadata": {},
   "source": [
    "## 5. Class Methods and Static Methods\n",
    "### Class methods are methods that are bound to the class and not the instance. They can modify the class state that applies across all instances of the class.\n",
    "\n",
    "### Static methods are methods that do not modify the class or instance state. They are bound to the class and do not have access to the instance (self) or class (cls) variables."
   ]
  },
  {
   "cell_type": "code",
   "execution_count": 33,
   "id": "bbf0cf1e-16a8-471c-83b4-f9a135daa4fd",
   "metadata": {},
   "outputs": [
    {
     "name": "stdout",
     "output_type": "stream",
     "text": [
      "8\n",
      "15\n"
     ]
    }
   ],
   "source": [
    "class MathOperations:\n",
    "    @staticmethod\n",
    "    def add(a, b):\n",
    "        return a + b\n",
    "\n",
    "    @classmethod\n",
    "    def multiply(cls, a, b):\n",
    "        return a * b\n",
    "\n",
    "print(MathOperations.add(5, 3))\n",
    "print(MathOperations.multiply(5, 3))\n"
   ]
  },
  {
   "cell_type": "code",
   "execution_count": 34,
   "id": "1ff37a76-af90-4741-b60d-57a8760d3085",
   "metadata": {},
   "outputs": [
    {
     "name": "stdout",
     "output_type": "stream",
     "text": [
      "212.0\n",
      "100.0\n"
     ]
    }
   ],
   "source": [
    "# Exercise 5\n",
    "# Create a class Temperature with a static method to convert Celsius to Fahrenheit and a class method to convert Fahrenheit to Celsius.\n",
    "class Tempreture:\n",
    "    @staticmethod\n",
    "    def cel_to_far(C):\n",
    "        return (C * 9/5) + 32\n",
    "\n",
    "    @classmethod\n",
    "    def far_to_cel(cls, F):\n",
    "        return (F - 32) * (5/9)\n",
    "\n",
    "print(Tempreture.cel_to_far(100))\n",
    "print(Tempreture.far_to_cel(212))"
   ]
  },
  {
   "cell_type": "markdown",
   "id": "bd3ca088-2af0-4e22-9e2e-dea1fde11965",
   "metadata": {},
   "source": [
    "# Advanced Object-Oriented Programming (OOP)"
   ]
  },
  {
   "cell_type": "markdown",
   "id": "0f670fa1-2a2e-452e-8c46-9a0d7b8a961a",
   "metadata": {},
   "source": [
    "## 6. Inheritance and Method Overriding\n",
    "\n",
    "### Inheritance allows you to define a class that inherits methods and properties from another class. Method overriding allows a subclass to provide a specific implementation of a method that is already defined in its superclass."
   ]
  },
  {
   "cell_type": "code",
   "execution_count": 35,
   "id": "c13b62a2-906e-46d9-81d3-eb8c43e606a9",
   "metadata": {},
   "outputs": [
    {
     "name": "stdout",
     "output_type": "stream",
     "text": [
      "buddy says Woof !\n",
      "winston says Meow !\n"
     ]
    }
   ],
   "source": [
    "#Exercise 1:\n",
    "# Create a class Animal with a method speak. \n",
    "# Then create two subclasses Dog and Cat that override the speak method to return \"Woof\" and \"Meow\" respectively.\n",
    "class Animal:\n",
    "    def speak(self):\n",
    "        raise NotImplementedError(\"subclass overriding the Animal\")\n",
    "\n",
    "class Dog(Animal):\n",
    "    def __init__(self, name):\n",
    "        self.name = name\n",
    "\n",
    "    def speak(self):\n",
    "        return f\"{self.name} says Woof !\"\n",
    "\n",
    "class Cat(Animal):\n",
    "    def __init__(self, name):\n",
    "        self.name = name\n",
    "\n",
    "    def speak(self):\n",
    "        return f\"{self.name} says Meow !\"\n",
    "\n",
    "dog = Dog(\"buddy\")\n",
    "cat = Cat(\"winston\")\n",
    "\n",
    "print(dog.speak())\n",
    "print(cat.speak())"
   ]
  },
  {
   "cell_type": "markdown",
   "id": "ddc19af1-32c0-4866-ac0d-e9a608a66b21",
   "metadata": {},
   "source": [
    "## 7. Polymorphism and Duck Typing\n",
    "\n",
    "### Polymorphism allows for using a unified interface to operate on different types of objects. Duck typing is a concept where the object's methods and properties determine the valid semantics, rather than its inheritance from a particular class."
   ]
  },
  {
   "cell_type": "code",
   "execution_count": 36,
   "id": "60ad855c-928b-42a7-b026-7fa778d8a32b",
   "metadata": {},
   "outputs": [
    {
     "name": "stdout",
     "output_type": "stream",
     "text": [
      "buddy says Woof !\n",
      "winston says Meow !\n"
     ]
    }
   ],
   "source": [
    "# Exercise 2\n",
    "# Create a function make_sound that takes an object and calls its speak method. \n",
    "# Test it with instances of Dog and Cat from the previous exercise.\n",
    "class Dog(Animal):\n",
    "    def __init__(self, name):\n",
    "        self.name = name\n",
    "\n",
    "    def speak(self):\n",
    "        return f\"{self.name} says Woof !\"\n",
    "\n",
    "class Cat(Animal):\n",
    "    def __init__(self, name):\n",
    "        self.name = name\n",
    "\n",
    "    def speak(self):\n",
    "        return f\"{self.name} says Meow !\"\n",
    "\n",
    "def make_sound(animal):\n",
    "    print(animal.speak())\n",
    "    \n",
    "dog = Dog(\"buddy\")\n",
    "cat = Cat(\"winston\")\n",
    "\n",
    "make_sound(dog) \n",
    "make_sound(cat) \n"
   ]
  },
  {
   "cell_type": "markdown",
   "id": "3cff3533-50d8-4c01-aa91-796b85eae456",
   "metadata": {},
   "source": [
    "## 8Encapsulation and Property Decorators\n",
    "\n",
    "### Encapsulation involves restricting access to some of the object's components. Property decorators (@property, @<property>.setter, @<property>.deleter) provide a Pythonic way to manage attribute access."
   ]
  },
  {
   "cell_type": "code",
   "execution_count": 37,
   "id": "60cf94a5-caf7-4314-9ddf-6576cb24ef87",
   "metadata": {},
   "outputs": [
    {
     "name": "stdout",
     "output_type": "stream",
     "text": [
      "John\n",
      "Doe\n",
      "Jane\n",
      "Last name must be a non-empty string\n"
     ]
    }
   ],
   "source": [
    "# Exercise 3 revised (AI generated):\n",
    "\n",
    "# Create a class Person with private attributes first_name and last_name.\n",
    "# Use property decorators to get and set these attributes with validation (e.g., ensuring names are strings and not empty).\n",
    "\n",
    "class Person:\n",
    "    def __init__(self, first_name, last_name):\n",
    "        self._first_name = first_name\n",
    "        self._last_name = last_name\n",
    "\n",
    "    @property\n",
    "    def first_name(self):\n",
    "        return self._first_name\n",
    "\n",
    "    @first_name.setter\n",
    "    def first_name(self, value):\n",
    "        if isinstance(value, str) and value:\n",
    "            self._first_name = value\n",
    "        else:\n",
    "            raise ValueError(\"First name must be a non-empty string\")\n",
    "\n",
    "    @property\n",
    "    def last_name(self):\n",
    "        return self._last_name\n",
    "\n",
    "    @last_name.setter\n",
    "    def last_name(self, value):\n",
    "        if isinstance(value, str) and value:\n",
    "            self._last_name = value\n",
    "        else:\n",
    "            raise ValueError(\"Last name must be a non-empty string\")\n",
    "\n",
    "# Example usage\n",
    "person = Person(\"John\", \"Doe\")\n",
    "print(person.first_name)  # Output: John\n",
    "print(person.last_name)   # Output: Doe\n",
    "person.first_name = \"Jane\"\n",
    "print(person.first_name)  # Output: Jane\n",
    "try:\n",
    "    person.last_name = \"\" \n",
    "except ValueError as e:\n",
    "    print(e)  # Output: Last name must be a non-empty string\n"
   ]
  },
  {
   "cell_type": "markdown",
   "id": "fb9358c5-2354-4929-9685-63e65b4255b4",
   "metadata": {},
   "source": [
    "## 9. Class and Static Methods\n",
    "\n",
    "### Class methods (@classmethod) are methods that receive the class as an implicit first argument. Static methods (@staticmethod) are methods that do not operate on an instance or class but are logically related to the class."
   ]
  },
  {
   "cell_type": "code",
   "execution_count": 38,
   "id": "10ca1d29-5ed1-4732-813c-7f7a69390aa7",
   "metadata": {},
   "outputs": [
    {
     "name": "stdout",
     "output_type": "stream",
     "text": [
      "14\n",
      "45\n"
     ]
    }
   ],
   "source": [
    "# Exercise4:\n",
    "# Create a class MathOperations with a static method add that adds two numbers and a class method multiply that multiplies two numbers. \n",
    "# Demonstrate their usage.\n",
    "\n",
    "class MathOperatios:\n",
    "    @staticmethod\n",
    "    def add(x,y):\n",
    "        return x + y\n",
    "        \n",
    "    @classmethod\n",
    "    def multiply(cls, x,y):\n",
    "        return x * y\n",
    "        \n",
    "math = MathOperatios()\n",
    "print(math.add(5,9))\n",
    "print(math.multiply(5, 9))\n"
   ]
  },
  {
   "cell_type": "markdown",
   "id": "70701d21-d528-4883-a51a-ce9ba44550f9",
   "metadata": {},
   "source": [
    "## 10. Dunder Methods and Operator Overloading\n",
    "\n",
    "### Dunder (double underscore) methods, also known as magic methods, allow you to define the behavior of operators for user-defined classes."
   ]
  },
  {
   "cell_type": "code",
   "execution_count": 39,
   "id": "45f3bbcf-ef06-4b0d-a032-79e5a4058181",
   "metadata": {},
   "outputs": [
    {
     "name": "stdout",
     "output_type": "stream",
     "text": [
      "Vector(4, 6)\n",
      "Vector(-2, -2)\n"
     ]
    }
   ],
   "source": [
    "# Exercise 5 revised (AI generated)\n",
    "\n",
    "# Create a class Vector to represent a vector in 2D space. Implement the dunder methods __add__ and __sub__ to add and subtract vectors.\n",
    "\n",
    "class Vector:\n",
    "    def __init__(self, x, y):\n",
    "        self.x = x\n",
    "        self.y = y\n",
    "\n",
    "    def __add__(self, other):\n",
    "        return Vector(self.x + other.x, self.y + other.y)\n",
    "\n",
    "    def __sub__(self, other):\n",
    "        return Vector(self.x - other.x, self.y - other.y)\n",
    "\n",
    "    def __repr__(self):\n",
    "        return f\"Vector({self.x}, {self.y})\"\n",
    "\n",
    "# Example usage\n",
    "v1 = Vector(1, 2)\n",
    "v2 = Vector(3, 4)\n",
    "\n",
    "v3 = v1 + v2\n",
    "v4 = v1 - v2\n",
    "\n",
    "print(v3)  # Output: Vector(4, 6)\n",
    "print(v4)  # Output: Vector(-2, -2)"
   ]
  },
  {
   "cell_type": "markdown",
   "id": "54c192da-0111-4bf5-95ff-c4af7804c3a9",
   "metadata": {},
   "source": [
    "## Difference Between Regular Methods and Dunder Methods"
   ]
  },
  {
   "cell_type": "markdown",
   "id": "74afd35c-dbb5-499e-a2fb-86267e5e24a2",
   "metadata": {},
   "source": [
    "### Regular Methods: These are the typical methods you define in your classes to perform actions or return values. For example, a method named add could be defined to perform addition for objects of your class, but you would need to explicitly call this method."
   ]
  },
  {
   "cell_type": "code",
   "execution_count": 3,
   "id": "6ff87463-d57e-4e19-b8a6-f6f86b1ca911",
   "metadata": {},
   "outputs": [
    {
     "name": "stdout",
     "output_type": "stream",
     "text": [
      "<__main__.Vector object at 0x0000013CF6294590>\n"
     ]
    }
   ],
   "source": [
    "class Vector:\n",
    "    def __init__(self, x, y):\n",
    "        self.x = x\n",
    "        self.y = y\n",
    "\n",
    "    def add(self, other):\n",
    "        return Vector(self.x + other.x, self.y + other.y)\n",
    "\n",
    "v1 = Vector(1, 2)\n",
    "v2 = Vector(3, 4)\n",
    "v3 = v1.add(v2)\n",
    "print(v3)  # Output: Vector(4, 6)\n"
   ]
  },
  {
   "cell_type": "markdown",
   "id": "816b26d5-224a-4f2c-9e81-aff806474972",
   "metadata": {},
   "source": [
    "### Dunder Methods: These methods are invoked implicitly by Python in response to operators or built-in functions. For example, the __add__ method is called when the + operator is used between two instances of your class."
   ]
  },
  {
   "cell_type": "code",
   "execution_count": 4,
   "id": "4bc49fe9-8c3d-4132-962f-b6815ee7f500",
   "metadata": {},
   "outputs": [
    {
     "name": "stdout",
     "output_type": "stream",
     "text": [
      "Vector(4, 6)\n",
      "Vector(-2, -2)\n"
     ]
    }
   ],
   "source": [
    "class Vector:\n",
    "    def __init__(self, x, y):\n",
    "        self.x = x\n",
    "        self.y = y\n",
    "\n",
    "    def __add__(self, other):\n",
    "        return Vector(self.x + other.x, self.y + other.y)\n",
    "\n",
    "    def __sub__(self, other):\n",
    "        return Vector(self.x - other.x, self.y - other.y)\n",
    "\n",
    "    def __repr__(self):\n",
    "        return f\"Vector({self.x}, {self.y})\"\n",
    "\n",
    "v1 = Vector(1, 2)\n",
    "v2 = Vector(3, 4)\n",
    "v3 = v1 + v2  # This calls v1.__add__(v2)\n",
    "v4 = v1 - v2  # This calls v1.__sub__(v2)\n",
    "\n",
    "print(v3)  # Output: Vector(4, 6)\n",
    "print(v4)  # Output: Vector(-2, -2)\n"
   ]
  },
  {
   "cell_type": "markdown",
   "id": "d19f0fc2-8481-4875-adbe-90ba92aab35f",
   "metadata": {},
   "source": [
    "## Why Use Dunder Methods?\n",
    "\n",
    "### Dunder methods make your class instances behave more like built-in types. They allow you to use operators and functions with your objects in a natural way. This improves the readability and usability of your code."
   ]
  },
  {
   "cell_type": "markdown",
   "id": "85d4fa1a-7612-4055-ba88-8eb03ad3ad51",
   "metadata": {},
   "source": [
    "## Common Dunder Methods\n",
    "\n",
    "### Here are some commonly used dunder methods for operator overloading:"
   ]
  },
  {
   "cell_type": "code",
   "execution_count": 6,
   "id": "e73c132a-9089-4098-b4a4-67aeb68c5a6d",
   "metadata": {},
   "outputs": [],
   "source": [
    "## __init__(self, ...): Constructor, initializes a new object.\n",
    "## __str__(self): Defines the string representation of an object (used by str() and print()).\n",
    "## __repr__(self): Defines the “official” string representation of an object (used by repr()).\n",
    "## __add__(self, other): Defines behavior for the + operator.\n",
    "## __sub__(self, other): Defines behavior for the - operator.\n",
    "## __mul__(self, other): Defines behavior for the * operator.\n",
    "## __truediv__(self, other): Defines behavior for the / operator.\n",
    "## __eq__(self, other): Defines behavior for the == operator.\n",
    "## __lt__(self, other): Defines behavior for the < operator.\n",
    "## __le__(self, other): Defines behavior for the <= operator.\n",
    "## __getitem__(self, key): Defines behavior for indexing (e.g., obj[key]).\n",
    "## __setitem__(self, key, value): Defines behavior for item assignment (e.g., obj[key] = value)."
   ]
  },
  {
   "cell_type": "code",
   "execution_count": null,
   "id": "ff7b13cf-092a-47bf-ac8f-57f71e17e291",
   "metadata": {},
   "outputs": [],
   "source": []
  }
 ],
 "metadata": {
  "kernelspec": {
   "display_name": "Python 3 (ipykernel)",
   "language": "python",
   "name": "python3"
  },
  "language_info": {
   "codemirror_mode": {
    "name": "ipython",
    "version": 3
   },
   "file_extension": ".py",
   "mimetype": "text/x-python",
   "name": "python",
   "nbconvert_exporter": "python",
   "pygments_lexer": "ipython3",
   "version": "3.11.2"
  }
 },
 "nbformat": 4,
 "nbformat_minor": 5
}
