{
 "cells": [
  {
   "cell_type": "markdown",
   "id": "f084e8cf-02fe-4e3e-b4cc-d4413cdc1d7a",
   "metadata": {},
   "source": [
    "# Module 3: Advanced Python Concepts\n",
    "## File Handling\n",
    "### File handling is an essential part of programming. Python provides built-in functions to open, read, write, and close files."
   ]
  },
  {
   "cell_type": "code",
   "execution_count": 1,
   "id": "f6eec357-2281-4cb9-ab23-f4ef34e351e3",
   "metadata": {},
   "outputs": [],
   "source": [
    "# Create a text file (write mode)\n",
    "file = open('test_file.txt', 'w')\n",
    "file.write(\"this is the first command \")\n",
    "file.write(\"this is the second command \")\n",
    "file.close()\n",
    "\n",
    "# add text into text file (append mode)\n",
    "file = open('test_file.txt', 'a')\n",
    "file.write(\"this is the third command\")\n",
    "file.close()\n",
    "\n",
    "# Create a text file and also Replace the whole text of previous file (write mode)\n",
    "with open(\"test_file.txt\", \"w\") as f:\n",
    "    f.write(\"this is the fourth command\")\n",
    "\n"
   ]
  },
  {
   "cell_type": "code",
   "execution_count": 2,
   "id": "1b6451ee-3c4d-457f-9bed-246529f43d9b",
   "metadata": {},
   "outputs": [
    {
     "name": "stdout",
     "output_type": "stream",
     "text": [
      "Tom Jerry Bark \n"
     ]
    }
   ],
   "source": [
    "# Exercise 1\n",
    "# Create a function write_to_file that writes a given string to a text file. \n",
    "# Create another function read_from_file that reads the content of the file and prints it.\n",
    "\n",
    "def write_to_file(*args):\n",
    "    file = open('func_file.txt', 'a')\n",
    "    for text in args:\n",
    "        file.write(text)\n",
    "    file.close()\n",
    "    return 'func_file.txt'\n",
    "\n",
    "def read_from_file(file):\n",
    "    with open(file, 'r') as f:\n",
    "        for line in f:\n",
    "            print(line)\n",
    "\n",
    "\n",
    "\n",
    "write_to_file(\"Tom \", \"Jerry \", \"Bark \")\n",
    "read_from_file('func_file.txt')"
   ]
  },
  {
   "cell_type": "code",
   "execution_count": 3,
   "id": "96cba16f-e346-4903-8c80-5b48af6bcdd2",
   "metadata": {},
   "outputs": [
    {
     "name": "stdout",
     "output_type": "stream",
     "text": [
      "Tom Jerry Bark Tom \n",
      "Jerry \n",
      "Bark \n"
     ]
    }
   ],
   "source": [
    "# Exersice 1 revised by AI\n",
    "def write_to_file(*args):\n",
    "    try:\n",
    "        with open('func_file.txt', 'a') as file:\n",
    "            for text in args:\n",
    "                file.write(text + \"\\n\")\n",
    "        return 'func_file.txt'\n",
    "    except Exception as e:\n",
    "        print(f\"An error occurred: {e}\")\n",
    "\n",
    "def read_from_file(file):\n",
    "    try:\n",
    "        with open(file, 'r') as f:\n",
    "            for line in f:\n",
    "                print(line, end=\"\")\n",
    "    except Exception as e:\n",
    "        print(f\"An error occurred: {e}\")\n",
    "\n",
    "write_to_file(\"Tom \", \"Jerry \", \"Bark \")\n",
    "read_from_file('func_file.txt')\n"
   ]
  },
  {
   "cell_type": "markdown",
   "id": "8d2d67da-ade8-4c27-b168-c5a129077331",
   "metadata": {},
   "source": [
    "## 12. Iterators and Generators\n",
    "\n",
    "### Iterators are objects that can be iterated upon. Generators are a simple way of creating iterators using functions and the \"yield\" statement."
   ]
  },
  {
   "cell_type": "code",
   "execution_count": 4,
   "id": "2ff5150c-136a-4491-a007-47f90c558b9c",
   "metadata": {},
   "outputs": [
    {
     "name": "stdout",
     "output_type": "stream",
     "text": [
      "[0, 1, 1, 2, 3, 5, 8, 13, 21, 34, 55, 89, 144]\n"
     ]
    }
   ],
   "source": [
    "# Exercise 2\n",
    "# Create a generator function fibonacci that generates an infinite sequence of Fibonacci numbers.\n",
    "def fibonacci(n):\n",
    "    fib = [0,1]\n",
    "    while fib[-1] <= n:\n",
    "        fib.append(fib[-1] + fib[-2])\n",
    "    return fib\n",
    "\n",
    "print(fibonacci(100))\n",
    "        "
   ]
  },
  {
   "cell_type": "code",
   "execution_count": 5,
   "id": "fda7649e-7643-45bd-95a5-171d9ffdefcf",
   "metadata": {},
   "outputs": [
    {
     "name": "stdout",
     "output_type": "stream",
     "text": [
      "0\n",
      "1\n",
      "1\n",
      "2\n",
      "3\n",
      "5\n",
      "8\n",
      "13\n",
      "21\n",
      "34\n"
     ]
    }
   ],
   "source": [
    "# Exercise 2 revised by AI\n",
    "# but the prompt asks for an infinite sequence generator\n",
    "def fibonacci():\n",
    "    a, b = 0, 1\n",
    "    while True:\n",
    "        yield a\n",
    "        a, b = b, a + b\n",
    "\n",
    "fib_gen = fibonacci()\n",
    "for _ in range(10):\n",
    "    print(next(fib_gen))\n"
   ]
  },
  {
   "cell_type": "markdown",
   "id": "125c49c5-a679-47a0-af9b-499887bcc2ab",
   "metadata": {},
   "source": [
    "## 13. Decorators\n",
    "\n",
    "### Decorators are a powerful and useful tool in Python that allows you to modify the behavior of a function or class."
   ]
  },
  {
   "cell_type": "code",
   "execution_count": 6,
   "id": "52ca69bd-7f29-40d6-83ea-dc9b0feb219b",
   "metadata": {},
   "outputs": [
    {
     "name": "stdout",
     "output_type": "stream",
     "text": [
      "Time taken by factorial: 0.0000 seconds\n",
      "Time taken by factorial: 0.0000 seconds\n",
      "Time taken by factorial: 0.0000 seconds\n",
      "Time taken by factorial: 0.0000 seconds\n",
      "Time taken by factorial: 0.0000 seconds\n",
      "Time taken by factorial: 0.0000 seconds\n",
      "Time taken by factorial: 0.0000 seconds\n",
      "Time taken by factorial: 0.0000 seconds\n",
      "Time taken by factorial: 0.0000 seconds\n",
      "362880\n"
     ]
    }
   ],
   "source": [
    "# Exercise 3\n",
    "# Create a decorator execution_time that measures the time a function takes to execute. \n",
    "# Apply this decorator to a function that calculates the factorial of a number.\n",
    "import time\n",
    "\n",
    "def execution_time(func):\n",
    "    def wrapper(*args, **kwargs):\n",
    "        start_time = time.time()\n",
    "        result = func(*args, **kwargs)\n",
    "        end_time = time.time()\n",
    "        print(f\"Time taken by {func.__name__}: {end_time - start_time:.4f} seconds\")\n",
    "        return result\n",
    "    return wrapper\n",
    "\n",
    "@execution_time\n",
    "def factorial(n):\n",
    "    if n == 0 or n == 1:\n",
    "        return 1\n",
    "    else:\n",
    "        return n * factorial(n-1)\n",
    "\n",
    "print(factorial(9)) "
   ]
  },
  {
   "cell_type": "markdown",
   "id": "bbceae89-1a22-4d10-8105-c7353bb64ab2",
   "metadata": {},
   "source": [
    "## 14. Context Managers\n",
    "\n",
    "### Context managers allow you to allocate and release resources precisely when you want to. The most used example is the \"with\" statement."
   ]
  },
  {
   "cell_type": "code",
   "execution_count": 7,
   "id": "96037285-69d4-46b2-969b-4499546eec3b",
   "metadata": {},
   "outputs": [
    {
     "name": "stdout",
     "output_type": "stream",
     "text": [
      "Random command\n",
      "\n"
     ]
    }
   ],
   "source": [
    "# Exercise 4 ( By AI )\n",
    "# Create a context manager using the @contextmanager decorator that opens and closes a file.\n",
    "from contextlib import contextmanager\n",
    "\n",
    "@contextmanager\n",
    "def open_file(file, mode):\n",
    "    try:\n",
    "        f = open(file, mode)\n",
    "        yield f\n",
    "    finally:\n",
    "        f.close()\n",
    "\n",
    "# Usage example\n",
    "with open_file('context.txt', 'w') as f:\n",
    "    f.write(\"Random command\\n\")\n",
    "    \n",
    "with open_file('context.txt', 'r') as f:\n",
    "    print(f.read())\n"
   ]
  },
  {
   "cell_type": "markdown",
   "id": "87441760-781d-42e6-8879-d5178312e0de",
   "metadata": {},
   "source": [
    "## 15. Modules and Packages\n",
    "\n",
    "### Python allows you to organize your code into modules and packages, making it easier to manage and reuse code."
   ]
  },
  {
   "cell_type": "code",
   "execution_count": 8,
   "id": "c37e87ac-ea36-4d77-82cc-b4f3474daa17",
   "metadata": {},
   "outputs": [],
   "source": [
    "# Exercise 5\n",
    "# Create a simple module with a few utility functions. Import this module in another script and use its functions.\n",
    "class Operations:\n",
    "    def __init__(self, n):\n",
    "        self.n = n\n",
    "\n",
    "    def is_even(self):\n",
    "        result = [x for x in range(self.n + 1) if x % 2 == 0]\n",
    "        return result\n",
    "\n",
    "    def fibonacci(self):\n",
    "        fib = [0,1]\n",
    "        while fib[-1] <= self.n:\n",
    "            fib.append(fib[-1] + fib[-2])\n",
    "        return fib\n",
    "\n",
    "# imagine this file called \"utility_module.py\"\n",
    "# and the code below is in another \"file.py\"\n",
    "\n",
    "# ----------------CODE---------------\n",
    "        \n",
    "# from utility_module import Operations\n",
    "\n",
    "# op = Operations(10)\n",
    "# print(op.is_even())\n",
    "# print(op.fibonacci())\n",
    "\n",
    "#-----------------End----------------"
   ]
  }
 ],
 "metadata": {
  "kernelspec": {
   "display_name": "Python 3 (ipykernel)",
   "language": "python",
   "name": "python3"
  },
  "language_info": {
   "codemirror_mode": {
    "name": "ipython",
    "version": 3
   },
   "file_extension": ".py",
   "mimetype": "text/x-python",
   "name": "python",
   "nbconvert_exporter": "python",
   "pygments_lexer": "ipython3",
   "version": "3.11.2"
  }
 },
 "nbformat": 4,
 "nbformat_minor": 5
}
