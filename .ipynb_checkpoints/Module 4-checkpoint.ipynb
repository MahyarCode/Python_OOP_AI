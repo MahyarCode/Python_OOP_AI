{
 "cells": [
  {
   "cell_type": "markdown",
   "id": "0dcb3b62-3050-492a-90ef-91e00fe4e0e0",
   "metadata": {},
   "source": [
    "# Module 4: Advanced Topics"
   ]
  },
  {
   "cell_type": "markdown",
   "id": "f4744dac-9fe9-4f0b-8199-494a5e66b0a0",
   "metadata": {},
   "source": [
    "## 16. Regular Expressions\n",
    "\n",
    "### Regular expressions (regex) are sequences of characters that define a search pattern. \n",
    "### They are commonly used for string searching and manipulation. Python's re module provides support for working with regular expressions.\n",
    "\n",
    "### Common Regex Patterns:\n",
    "\n",
    "### \\w : Matches any alphanumeric character (equivalent to [a-zA-Z0-9_]).\n",
    "### \\d : Matches any digit (equivalent to [0-9]).\n",
    "### \\s : Matches any whitespace character.\n",
    "### . : Matches any character except a newline.\n",
    "### * : Matches 0 or more repetitions of the preceding regex.\n",
    "### + : Matches 1 or more repetitions of the preceding regex.\n",
    "### [] : Used to indicate a set of characters (e.g., [a-z] matches any lowercase letter)."
   ]
  },
  {
   "cell_type": "code",
   "execution_count": 2,
   "id": "e77139af-501d-48b5-933f-e0ff754659b8",
   "metadata": {},
   "outputs": [
    {
     "name": "stdout",
     "output_type": "stream",
     "text": [
      "['test@example.com', 'hello.world@example.com', 'user+mail@domain.co']\n"
     ]
    }
   ],
   "source": [
    "import re\n",
    "\n",
    "def extract_emails(text):\n",
    "    # Regex pattern for matching email addresses\n",
    "    email_pattern = r'[a-zA-Z0-9._%+-]+@[a-zA-Z0-9.-]+\\.[a-zA-Z]{2,}'\n",
    "    return re.findall(email_pattern, text)\n",
    "\n",
    "text = \"Here are some emails: test@example.com, hello.world@example.com, user+mail@domain.co\"\n",
    "emails = extract_emails(text)\n",
    "print(emails)  # Output: ['test@example.com', 'hello.world@example.com', 'user+mail@domain.co']\n"
   ]
  },
  {
   "cell_type": "markdown",
   "id": "bf1c9f3e-96f0-49f5-ae48-21c503dba84a",
   "metadata": {},
   "source": [
    "## 17. Advanced Data Structures\n",
    "\n",
    "### Python's collections module provides specialized data structures such as deque, Counter, OrderedDict, defaultdict, and namedtuple.\n",
    "\n",
    "### Deque:\n",
    "\n",
    "### A deque (double-ended queue) supports adding and removing elements from both ends."
   ]
  },
  {
   "cell_type": "code",
   "execution_count": 3,
   "id": "5490e938-2119-4976-ab1c-2d1290924b1e",
   "metadata": {},
   "outputs": [
    {
     "name": "stdout",
     "output_type": "stream",
     "text": [
      "deque(['a', 'b', 'c'])\n",
      "a\n",
      "deque(['b', 'c'])\n"
     ]
    }
   ],
   "source": [
    "from collections import deque\n",
    "\n",
    "def create_queue():\n",
    "    return deque()\n",
    "\n",
    "def add_to_queue(queue, element):\n",
    "    queue.append(element)\n",
    "\n",
    "def remove_from_queue(queue):\n",
    "    return queue.popleft()\n",
    "\n",
    "queue = create_queue()\n",
    "add_to_queue(queue, 'a')\n",
    "add_to_queue(queue, 'b')\n",
    "add_to_queue(queue, 'c')\n",
    "print(queue)  # Output: deque(['a', 'b', 'c'])\n",
    "print(remove_from_queue(queue))  # Output: 'a'\n",
    "print(queue)  # Output: deque(['b', 'c'])\n"
   ]
  },
  {
   "cell_type": "markdown",
   "id": "6aa4e7ef-c73b-4c1a-8c62-3395d6455564",
   "metadata": {},
   "source": [
    "## 18. JSON and APIs\n",
    "\n",
    "### JSON (JavaScript Object Notation) is a lightweight data-interchange format. The json module in Python can parse JSON strings into Python objects and serialize Python objects into JSON strings."
   ]
  },
  {
   "cell_type": "code",
   "execution_count": 4,
   "id": "3d26d771-ee5c-4d7d-9bd6-90cad8f887d3",
   "metadata": {},
   "outputs": [
    {
     "name": "stdout",
     "output_type": "stream",
     "text": [
      "{\n",
      "  \"userId\": 1,\n",
      "  \"id\": 1,\n",
      "  \"title\": \"delectus aut autem\",\n",
      "  \"completed\": false\n",
      "}\n"
     ]
    }
   ],
   "source": [
    "import json\n",
    "import requests\n",
    "\n",
    "def fetch_data(url):\n",
    "    response = requests.get(url)\n",
    "    data = response.json()  # Parse JSON data\n",
    "    print(json.dumps(data, indent=2))  # Pretty-print the JSON data\n",
    "\n",
    "url = 'https://jsonplaceholder.typicode.com/todos/1'\n",
    "fetch_data(url)\n"
   ]
  },
  {
   "cell_type": "markdown",
   "id": "c384fdd3-62a6-48da-a940-b917c7d652d2",
   "metadata": {},
   "source": [
    "## 19. Threading and Multiprocessing\n",
    "\n",
    "### Concurrency in Python can be achieved using threading and multiprocessing. The \"concurrent.futures\" module provides a high-level interface for asynchronously executing functions using threads or processes."
   ]
  },
  {
   "cell_type": "code",
   "execution_count": 5,
   "id": "8d468cf6-ffe6-4318-bb2e-d615fd56a428",
   "metadata": {},
   "outputs": [
    {
     "name": "stdout",
     "output_type": "stream",
     "text": [
      "[120, 5040, 3628800, 479001600]\n"
     ]
    }
   ],
   "source": [
    "from concurrent.futures import ThreadPoolExecutor\n",
    "import math\n",
    "\n",
    "executor = ThreadPoolExecutor()\n",
    "\n",
    "def factorial(n):\n",
    "    return math.factorial(n)\n",
    "\n",
    "def compute_factorials(numbers):\n",
    "    results = list(executor.map(factorial, numbers))\n",
    "    return results\n",
    "\n",
    "numbers = [5, 7, 10, 12]\n",
    "print(compute_factorials(numbers))  # Output: [120, 5040, 3628800, 479001600]\n"
   ]
  },
  {
   "cell_type": "markdown",
   "id": "c9c0853a-e207-42d3-a987-e16e5fcfd0b4",
   "metadata": {},
   "source": [
    "## 20. Web Scraping\n",
    "\n",
    "### Web scraping is the process of extracting data from websites. Libraries like requests and BeautifulSoup are commonly used for this purpose."
   ]
  },
  {
   "cell_type": "code",
   "execution_count": 6,
   "id": "da6ca2cd-69ba-4dc6-bacf-1e01d541475d",
   "metadata": {
    "scrolled": true
   },
   "outputs": [
    {
     "name": "stdout",
     "output_type": "stream",
     "text": [
      " news Alerts\n",
      "Biden campaign plans to get more aggressive once Trump trial ends\n",
      "Biden campaign plans to get more aggressive once Trump trial ends\n",
      "Alec Baldwin's involuntary manslaughter case in 'Rust' shooting to continue\n",
      "Alec Baldwin's involuntary manslaughter case in 'Rust' shooting to continue\n",
      "Video shows death on the streets of Ukraine town at heart of new Russian offensive \n",
      "Video shows death on the streets of Ukraine town at heart of new Russian offensive \n",
      "Young American couple doing missionary work are killed by gangs in Haiti\n",
      "Young American couple doing missionary work are killed by gangs in Haiti\n",
      "Israel ordered to immediately halt Rafah offensive by top U.N. court\n",
      "Israel ordered to immediately halt Rafah offensive by top U.N. court\n",
      "Will schools finally pay student-athletes? What a historic settlement means for the NCAA and players\n",
      "Will schools finally pay student-athletes? What a historic settlement means for the NCAA and players\n",
      "Indiana Fever beat L.A. Sparks, Caitlin Clark's first WNBA win\n",
      "Indiana Fever beat L.A. Sparks, Caitlin Clark's first WNBA win\n",
      "Prosecutors ask judge in classified documents case to block Trump from statements endangering law enforcement\n",
      "Prosecutors ask judge in classified documents case to block Trump from statements endangering law enforcement\n",
      "Uvalde families sue Meta and 'Call of Duty' maker on 2nd anniversary of school attack         \n",
      "Uvalde families sue Meta and 'Call of Duty' maker on 2nd anniversary of school attack         \n",
      "Midwest hit by more strong storms, reported tornadoes\n",
      "Midwest hit by more strong storms, reported tornadoes\n",
      "Dateline NBC\n",
      "LATEST News\n",
      "Video shows death on the streets of Ukraine town at heart of new Russian offensive \n",
      "A woman took her sick puppy to a Maryland shelter to be euthanized. The dog is up for adoption again.\n",
      "Indiana Fever beat L.A. Sparks, Caitlin Clark's first WNBA win\n",
      "At least 3 climbers believed dead on Mount Everest\n",
      "Boos and anti-Trump chants at Libertarian convention where former president is set to speak\n",
      "Search for primate on the loose in South Carolina in second day\n",
      "Defense Secretary Lloyd Austin resumes duty after undergoing procedure at Walter Reed\n",
      "Prosecutors ask judge in classified documents case to block Trump from statements endangering law enforcement\n",
      "North Carolina man sentenced to 25 years for teaching bomb-making to person who targeted authorities\n",
      "Ex-Boston police officer who assaulted a Capitol Police officer with a chair on Jan. 6 is sentenced\n",
      "Uvalde families sue Meta and 'Call of Duty' maker on 2nd anniversary of school attack         \n",
      "'A Different World' cast reunites as HBCUs see a new peak in admissions\n",
      "Ex-CIA officer accused of spying for China pleads guilty in a Honolulu courtroom\n",
      "Woman alleges Disney waterslide knocked her unconscious and caused brain injury in lawsuit \n",
      "Alec Baldwin's involuntary manslaughter case in 'Rust' shooting to continue\n",
      "Robert De Niro calls Trump 'out of control' in new Biden campaign ad\n",
      "Trump's Truth Social struggles to grow its user base, according to new data\n",
      "Slain Fort Campbell Latina soldier's mom wants  answers as group offers reward for info\n",
      "UAW challenges Mercedes-Benz union vote, asks NLRB for new election\n",
      "Jan. 6 rioter who attacked cops lashes out at Trump-appointed judge after 12-year sentence\n",
      "Glue on pizza? Two-footed elephants? Google’s AI faces social media mockery\n",
      "Louisiana governor signs bill classifying abortion pills as controlled dangerous substances\n",
      "A potentially habitable Earth-size planet was discovered just 40 light-years away\n",
      "ROTC cadets don't receive military death benefits. Families who lost loved ones are trying to change that.\n",
      "Biden campaign preps for a Trump trial verdict: From the Politics Desk\n",
      "'Phony' checks and hush money payments: Breaking down Trump’s 34 charges in his New York criminal trial\n",
      "Takeru Kobayashi, 6-time Nathan’s hot dog champ, retires from competitive eating over health concerns\n",
      "Caleb Carr, military historian and author of bestselling novel ‘The Alienist,’ dies at 68   \n",
      "A trial of cloud-brightening technology sparks controversy in a California city\n",
      "Will schools finally pay student-athletes? What a historic settlement means for the NCAA and players\n",
      "Nvidia CEO Jensen Huang's net worth swells from $3 billion to $90 billion in five years\n",
      "Boeing, NASA say Starliner astronaut launch will move forward despite spacecraft helium leak\n",
      "Photos from Trump's rally in the South Bronx\n",
      "Why groceries are so expensive — and how consumers may start to see relief\n",
      "Chuck Todd: Inside a billionaire pro sports owner's lesson in local politics\n",
      "Advertisers boost spending at retailers such as Walmart and Amazon as TV shrinks\n",
      "CBS defends diversity hiring on 'SEAL Team' from 'anti-white discrimination' suit \n",
      "TikTok says it disrupted 15 influence operations this year — including one from China\n",
      "Brittany Mahomes gives health update months after fracturing her back\n",
      "Mexico’s poorest are receiving less government funds under president who brought poor to the fore \n",
      "In Mexico, a wave of political murders ahead of elections eats away at democracy\n",
      "UC academic workers union calls for strikes at UCLA and UC Davis over campus protest responses\n",
      "Florida is using a fraud-hunting tool used by the right to look for voters to remove  from the rolls \n",
      "Young American couple doing missionary work are killed by gangs in Haiti\n",
      "'Sedition Panda' convicted of assaulting officer on Jan. 6 after judge calls his defense 'absurd'\n",
      "Man seen on video using wooden pole to attack UCLA pro-Palestinian encampment is arrested\n",
      "Taylor Swift and Beyoncé are bridging divides at the office\n",
      "Kelly Rowland says she stood her ground as she clashed with red carpet usher at Cannes\n",
      "It wasn't the endless shrimp that pinched Red Lobster. How private equity rolled the seafood chain.\n",
      "Shopping\n",
      "Do filtered showerheads really work? Experts weigh in\n",
      "Top videos\n",
      "Record numbers expected to travel this holiday weekend\n",
      "College shutting down, but its baseball team soars\n",
      "Judge denies Alec Baldwin's motion to dismiss involuntary manslaughter charge\n",
      "Growing number of seniors face homelessness\n",
      "Editors' picks\n",
      "ROTC cadets don't receive military death benefits. Families who lost loved ones are trying to change that.\n",
      "How a Texas hospital is fighting a condition that kills pregnant women\n",
      "The influences that drove Nicole Shanahan, RFK Jr.’s VP pick, to embrace conspiracy theories\n",
      "It wasn't the endless shrimp that pinched Red Lobster. How private equity rolled the seafood chain.\n",
      "Most popular\n",
      "Morgan Spurlock, documentary filmmaker behind 'Super Size Me,' dies at 53\n",
      "Photos from Trump's rally in the South Bronx\n",
      "Young American couple doing missionary work are killed by gangs in Haiti\n",
      "It wasn't the endless shrimp that pinched Red Lobster. How private equity rolled the seafood chain.\n",
      "\n",
      "New coach Emma Hayes seeking to restore U.S. women's soccer glory\n",
      "Gymnastics legend Oksana Chusovitina to miss first Olympics since 1992\n",
      "Break dancer Sunny Choi is focusing on mental health as much as physical in prepping for the Olympics \n",
      "Crystal Dunn says the USWNT is ready for the Olympics, and hungry for gold\n",
      "The 73 best Memorial Day sales to shop this weekend\n",
      "The 73 best Memorial Day sales to shop this weekend\n",
      "Skate pros on how to shop for Rollerblades\n",
      "Rei Anniversary sale: The best deals to shop\n",
      "Our editors’ favorite quiet air purifiers\n",
      "World\n",
      "World\n",
      "Latino\n",
      "Iran Tensions\n",
      "World\n",
      "World\n",
      "World\n",
      "World\n",
      "Culture & trends\n",
      "Culture & Trends\n",
      "World\n",
      "NBCBLK\n",
      "U.S. news\n",
      "Culture & Trends\n",
      "U.S. news\n",
      "Culture & Trends\n",
      "Business & tech\n",
      "Artificial intelligence\n",
      "Consumer\n",
      "Tech News\n",
      "Lifestyle\n",
      "Consumer\n",
      "Lifestyle\n",
      "Consumer\n",
      "Sports\n",
      "Sports\n",
      "Sports\n",
      "EXCLUSIVE\n",
      "Sports\n",
      "Sports\n",
      "Sports\n",
      "Sports\n",
      "Health\n",
      "Health news\n",
      "Women's Health\n",
      "Health news\n",
      "Kids' Health\n",
      "Cancer\n",
      "Kids' Health\n",
      "Cancer\n",
      "Science\n",
      "Space\n",
      "Environment\n",
      "Environment\n",
      "Climate in Crisis\n",
      "Science News\n",
      "Climate in Crisis\n",
      "Science News\n",
      "NBC Out\n",
      "NBA great Dwyane Wade launches Translatable, an online community supporting trans youth\n",
      "UFC fighter says he’ll home-school son so he doesn’t ‘end up turning gay’\n",
      "CDC says vaccination could protect the U.S. from more dangerous mpox virus\n",
      "With a sequel in the works, ‘Red, White & Royal Blue’ stars reflect on its success — and R rating\n",
      "NBC Asian America\n",
      "NYC's hottest social club is a mahjong tournament \n",
      "Asian Latinos are a growing but ignored demographic, new analysis shows\n",
      "Parents called for mental health help. Police arrived and fatally shot their son.  \n",
      "Kamala Harris says more Indian American representation is needed in government\n",
      "NBC BLK\n",
      "'A Different World' cast reunites as HBCUs see a new peak in admissions\n",
      "CBS defends diversity hiring on 'SEAL Team' from 'anti-white discrimination' suit \n",
      "Taylor Swift and Beyoncé are bridging divides at the office\n",
      "Kelly Rowland says she stood her ground as she clashed with red carpet usher at Cannes\n",
      "NBC Latino\n",
      "Slain Fort Campbell Latina soldier's mom wants  answers as group offers reward for info\n",
      "Mexico’s poorest are receiving less government funds under president who brought poor to the fore \n",
      "In Mexico, a wave of political murders ahead of elections eats away at democracy\n",
      "Comedian Jesus Trejo looks at the family stories 'behind the jokes' in new series\n"
     ]
    }
   ],
   "source": [
    "import requests\n",
    "from bs4 import BeautifulSoup\n",
    "\n",
    "def scrape_titles(url):\n",
    "    response = requests.get(url)\n",
    "    soup = BeautifulSoup(response.text, 'html.parser')\n",
    "    titles = soup.find_all('h2')  # Assuming article titles are in <h2> tags\n",
    "    for title in titles:\n",
    "        print(title.get_text())\n",
    "\n",
    "url = 'https://www.nbcnews.com/'  # Replace with a real news website URL\n",
    "scrape_titles(url)\n"
   ]
  }
 ],
 "metadata": {
  "kernelspec": {
   "display_name": "Python 3 (ipykernel)",
   "language": "python",
   "name": "python3"
  },
  "language_info": {
   "codemirror_mode": {
    "name": "ipython",
    "version": 3
   },
   "file_extension": ".py",
   "mimetype": "text/x-python",
   "name": "python",
   "nbconvert_exporter": "python",
   "pygments_lexer": "ipython3",
   "version": "3.11.2"
  }
 },
 "nbformat": 4,
 "nbformat_minor": 5
}
